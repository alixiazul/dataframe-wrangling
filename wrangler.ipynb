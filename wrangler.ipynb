{
 "cells": [
  {
   "cell_type": "markdown",
   "id": "136d1b9f-a489-40d6-b346-5465d10c4542",
   "metadata": {},
   "source": [
    "# Data Wrangling With Pandas\n",
    "\n",
    "## Task One - Series\n",
    "In the cell below, create a `pandas` Series that contains the populations of the top ten British cities. You can find the necessary data in `data/urban.md`. Print out the series."
   ]
  },
  {
   "cell_type": "code",
   "execution_count": 3,
   "id": "c6c1d67a-3187-43ef-b679-0889d842925f",
   "metadata": {},
   "outputs": [
    {
     "data": {
      "text/plain": [
       "London                    10803000\n",
       "Birmingham                 2517000\n",
       "Manchester                 2449000\n",
       "Leeds-Bradford             1659000\n",
       "Glasgow                    1100000\n",
       "Liverpool                   835000\n",
       "Southampton-Portsmouth      805000\n",
       "Newcastle                   719000\n",
       "Nottingham                  719000\n",
       "Sheffield                   603000\n",
       "dtype: int64"
      ]
     },
     "execution_count": 3,
     "metadata": {},
     "output_type": "execute_result"
    }
   ],
   "source": [
    "import pandas as pd\n",
    "\n",
    "cities = pd.Series(\n",
    "    {\n",
    "        \"London\": 10803000,\n",
    "        \"Birmingham\": 2517000,\n",
    "        \"Manchester\": 2449000,\n",
    "        \"Leeds-Bradford\": 1659000,\n",
    "        \"Glasgow\": 1100000,\n",
    "        \"Liverpool\": 835000,\n",
    "        \"Southampton-Portsmouth\": 805000,\n",
    "        \"Newcastle\": 719000,\n",
    "        \"Nottingham\": 719000,\n",
    "        \"Sheffield\": 603000,\n",
    "    }\n",
    ")\n",
    "\n",
    "cities"
   ]
  },
  {
   "cell_type": "markdown",
   "id": "8aeaf839-5628-4bcd-83cc-858937bde4bb",
   "metadata": {},
   "source": [
    "Sort the series by alphabetical order creating a new series, and print it out."
   ]
  },
  {
   "cell_type": "code",
   "execution_count": 9,
   "id": "7b15a857-5556-400d-a6eb-10c8a1d3fd90",
   "metadata": {},
   "outputs": [
    {
     "data": {
      "text/plain": [
       "Birmingham                 2517000\n",
       "Glasgow                    1100000\n",
       "Leeds-Bradford             1659000\n",
       "Liverpool                   835000\n",
       "London                    10803000\n",
       "Manchester                 2449000\n",
       "Newcastle                   719000\n",
       "Nottingham                  719000\n",
       "Sheffield                   603000\n",
       "Southampton-Portsmouth      805000\n",
       "dtype: int64"
      ]
     },
     "execution_count": 9,
     "metadata": {},
     "output_type": "execute_result"
    }
   ],
   "source": [
    "alphabetised_cities = cities.sort_index()\n",
    "alphabetised_cities"
   ]
  },
  {
   "cell_type": "markdown",
   "id": "798a7761-ba93-41f1-be34-800d68aac5b7",
   "metadata": {},
   "source": [
    "Create and print a series consisting of the second half of the alphabetically-sorted series. "
   ]
  },
  {
   "cell_type": "code",
   "execution_count": 15,
   "id": "faa762ae-860e-4430-81e4-018bb3ce33c3",
   "metadata": {},
   "outputs": [
    {
     "data": {
      "text/plain": [
       "Manchester                2449000\n",
       "Newcastle                  719000\n",
       "Nottingham                 719000\n",
       "Sheffield                  603000\n",
       "Southampton-Portsmouth     805000\n",
       "dtype: int64"
      ]
     },
     "execution_count": 15,
     "metadata": {},
     "output_type": "execute_result"
    }
   ],
   "source": [
    "# alphabetised_cities['Manchester':'Southampton-Portsmouth']\n",
    "alphabetised_cities[int(len(alphabetised_cities)/2):]\n"
   ]
  },
  {
   "cell_type": "markdown",
   "id": "cebc7ff0-cae4-466f-b50b-4fd4c4f89b08",
   "metadata": {},
   "source": [
    "## Task Two - Dataframes\n",
    "\n",
    "In the cell below, create two new Series for\n",
    "- the top attractions in each city\n",
    "- whether the city is a port\n",
    "- the geographical area of the city in square km\n",
    "\n",
    "From all the series, create a DataFrame than contains all the information about the cities. Include a unique id for each city. Print out the resulting dataframe."
   ]
  },
  {
   "cell_type": "code",
   "execution_count": 116,
   "id": "7c80261c-851f-4334-9cb3-5f8d9607ea3c",
   "metadata": {},
   "outputs": [
    {
     "name": "stdout",
     "output_type": "stream",
     "text": [
      "London                    Yes\n",
      "Birmingham                 No\n",
      "Manchester                 No\n",
      "Leeds-Bradford             No\n",
      "Glasgow                   Yes\n",
      "Liverpool                 Yes\n",
      "Southampton-Portsmouth    Yes\n",
      "Newcastle                 Yes\n",
      "Nottingham                 No\n",
      "Sheffield                  No\n",
      "dtype: object\n"
     ]
    }
   ],
   "source": [
    "attractions = [\n",
    "    \"Big Ben\",\n",
    "    \"Cadbury World\",\n",
    "    \"Northcoders\",\n",
    "    \"Royal Armouries\",\n",
    "    \"Kelvingrove\",\n",
    "    \"Albert Dock\",\n",
    "    \"Naval Dockyard\",\n",
    "    \"Bigg Market\",\n",
    "    \"Nottingham Castle\",\n",
    "    \"Botanical Gardens\",\n",
    "]\n",
    "top_attraction = pd.Series(attractions, index=cities.index)\n",
    "top_attraction\n",
    "\n",
    "ports = [\n",
    "    \"Yes\",\n",
    "    \"No\",\n",
    "    \"No\",\n",
    "    \"No\",\n",
    "    \"Yes\",\n",
    "    \"Yes\",\n",
    "    \"Yes\",\n",
    "    \"Yes\",\n",
    "    \"No\",\n",
    "    \"No\",\n",
    "]\n",
    "port = pd.Series(ports, index=cities.index)\n",
    "print(port)\n",
    "\n",
    "areas = [\n",
    "    1737.9,\n",
    "    598.9,\n",
    "    630.3,\n",
    "    487.8,\n",
    "    368.5,\n",
    "    199.6,\n",
    "    192,\n",
    "    180.0,\n",
    "    176.4,\n",
    "    167.5,\n",
    "]\n",
    "area = pd.Series(areas, index=cities.index)\n",
    "area\n",
    "\n",
    "cities_data = pd.DataFrame({\"attraction\": top_attraction, \"port\": port, \"area\": area})\n",
    "# cities_data = pd.DataFrame({'port':port})"
   ]
  },
  {
   "cell_type": "markdown",
   "id": "cbb4d52b-f811-4eb4-8cdb-9eb870802d20",
   "metadata": {},
   "source": [
    "Create and print a dataframe containing the top attractions in cities that are ports. Include only the city id and name."
   ]
  },
  {
   "cell_type": "code",
   "execution_count": 117,
   "id": "7b24a577",
   "metadata": {},
   "outputs": [
    {
     "name": "stdout",
     "output_type": "stream",
     "text": [
      "                               attraction port    area\n",
      "London                            Big Ben  Yes  1737.9\n",
      "Birmingham                  Cadbury World   No   598.9\n",
      "Manchester                    Northcoders   No   630.3\n",
      "Leeds-Bradford            Royal Armouries   No   487.8\n",
      "Glasgow                       Kelvingrove  Yes   368.5\n",
      "Liverpool                     Albert Dock  Yes   199.6\n",
      "Southampton-Portsmouth     Naval Dockyard  Yes   192.0\n",
      "Newcastle                     Bigg Market  Yes   180.0\n",
      "Nottingham              Nottingham Castle   No   176.4\n",
      "Sheffield               Botanical Gardens   No   167.5\n"
     ]
    },
    {
     "data": {
      "text/html": [
       "<div>\n",
       "<style scoped>\n",
       "    .dataframe tbody tr th:only-of-type {\n",
       "        vertical-align: middle;\n",
       "    }\n",
       "\n",
       "    .dataframe tbody tr th {\n",
       "        vertical-align: top;\n",
       "    }\n",
       "\n",
       "    .dataframe thead th {\n",
       "        text-align: right;\n",
       "    }\n",
       "</style>\n",
       "<table border=\"1\" class=\"dataframe\">\n",
       "  <thead>\n",
       "    <tr style=\"text-align: right;\">\n",
       "      <th></th>\n",
       "      <th>attraction</th>\n",
       "      <th>id</th>\n",
       "    </tr>\n",
       "  </thead>\n",
       "  <tbody>\n",
       "    <tr>\n",
       "      <th>London</th>\n",
       "      <td>Big Ben</td>\n",
       "      <td>0</td>\n",
       "    </tr>\n",
       "    <tr>\n",
       "      <th>Glasgow</th>\n",
       "      <td>Kelvingrove</td>\n",
       "      <td>4</td>\n",
       "    </tr>\n",
       "    <tr>\n",
       "      <th>Liverpool</th>\n",
       "      <td>Albert Dock</td>\n",
       "      <td>5</td>\n",
       "    </tr>\n",
       "    <tr>\n",
       "      <th>Southampton-Portsmouth</th>\n",
       "      <td>Naval Dockyard</td>\n",
       "      <td>6</td>\n",
       "    </tr>\n",
       "    <tr>\n",
       "      <th>Newcastle</th>\n",
       "      <td>Bigg Market</td>\n",
       "      <td>7</td>\n",
       "    </tr>\n",
       "  </tbody>\n",
       "</table>\n",
       "</div>"
      ],
      "text/plain": [
       "                            attraction  id\n",
       "London                         Big Ben   0\n",
       "Glasgow                    Kelvingrove   4\n",
       "Liverpool                  Albert Dock   5\n",
       "Southampton-Portsmouth  Naval Dockyard   6\n",
       "Newcastle                  Bigg Market   7"
      ]
     },
     "execution_count": 117,
     "metadata": {},
     "output_type": "execute_result"
    }
   ],
   "source": [
    "# cities_data[cities_data['port'] == 'Yes']\n",
    "print(cities_data)\n",
    "cities_data['id'] = list(range(len(cities_data)))\n",
    "# cities_data.loc[:, cities_data.columns != 'area']\n",
    "# cities_data.loc[:, ~cities_data.columns.isin(['port','area'])]\n",
    "# cities_data[['attraction','id']]\n",
    "cities_data.loc[cities_data['port'] == 'Yes' ,['attraction','id']]"
   ]
  },
  {
   "cell_type": "markdown",
   "id": "167c7f46-966b-40d4-a0e1-1f1ea84bc674",
   "metadata": {},
   "source": [
    "Create a dataframe which includes all the original data plus the population densities (population per square km) for each city and order them from low density to high density."
   ]
  },
  {
   "cell_type": "code",
   "execution_count": 119,
   "id": "726d27c9-c892-4852-80a3-723ce171c4a5",
   "metadata": {},
   "outputs": [
    {
     "data": {
      "text/html": [
       "<div>\n",
       "<style scoped>\n",
       "    .dataframe tbody tr th:only-of-type {\n",
       "        vertical-align: middle;\n",
       "    }\n",
       "\n",
       "    .dataframe tbody tr th {\n",
       "        vertical-align: top;\n",
       "    }\n",
       "\n",
       "    .dataframe thead th {\n",
       "        text-align: right;\n",
       "    }\n",
       "</style>\n",
       "<table border=\"1\" class=\"dataframe\">\n",
       "  <thead>\n",
       "    <tr style=\"text-align: right;\">\n",
       "      <th></th>\n",
       "      <th>attraction</th>\n",
       "      <th>port</th>\n",
       "      <th>area</th>\n",
       "      <th>id</th>\n",
       "      <th>population</th>\n",
       "      <th>densities</th>\n",
       "    </tr>\n",
       "  </thead>\n",
       "  <tbody>\n",
       "    <tr>\n",
       "      <th>Glasgow</th>\n",
       "      <td>Kelvingrove</td>\n",
       "      <td>Yes</td>\n",
       "      <td>368.5</td>\n",
       "      <td>4</td>\n",
       "      <td>1100000</td>\n",
       "      <td>2985.074627</td>\n",
       "    </tr>\n",
       "    <tr>\n",
       "      <th>Leeds-Bradford</th>\n",
       "      <td>Royal Armouries</td>\n",
       "      <td>No</td>\n",
       "      <td>487.8</td>\n",
       "      <td>3</td>\n",
       "      <td>1659000</td>\n",
       "      <td>3400.984010</td>\n",
       "    </tr>\n",
       "    <tr>\n",
       "      <th>Sheffield</th>\n",
       "      <td>Botanical Gardens</td>\n",
       "      <td>No</td>\n",
       "      <td>167.5</td>\n",
       "      <td>9</td>\n",
       "      <td>603000</td>\n",
       "      <td>3600.000000</td>\n",
       "    </tr>\n",
       "    <tr>\n",
       "      <th>Manchester</th>\n",
       "      <td>Northcoders</td>\n",
       "      <td>No</td>\n",
       "      <td>630.3</td>\n",
       "      <td>2</td>\n",
       "      <td>2449000</td>\n",
       "      <td>3885.451372</td>\n",
       "    </tr>\n",
       "    <tr>\n",
       "      <th>Newcastle</th>\n",
       "      <td>Bigg Market</td>\n",
       "      <td>Yes</td>\n",
       "      <td>180.0</td>\n",
       "      <td>7</td>\n",
       "      <td>719000</td>\n",
       "      <td>3994.444444</td>\n",
       "    </tr>\n",
       "    <tr>\n",
       "      <th>Nottingham</th>\n",
       "      <td>Nottingham Castle</td>\n",
       "      <td>No</td>\n",
       "      <td>176.4</td>\n",
       "      <td>8</td>\n",
       "      <td>719000</td>\n",
       "      <td>4075.963719</td>\n",
       "    </tr>\n",
       "    <tr>\n",
       "      <th>Liverpool</th>\n",
       "      <td>Albert Dock</td>\n",
       "      <td>Yes</td>\n",
       "      <td>199.6</td>\n",
       "      <td>5</td>\n",
       "      <td>835000</td>\n",
       "      <td>4183.366733</td>\n",
       "    </tr>\n",
       "    <tr>\n",
       "      <th>Southampton-Portsmouth</th>\n",
       "      <td>Naval Dockyard</td>\n",
       "      <td>Yes</td>\n",
       "      <td>192.0</td>\n",
       "      <td>6</td>\n",
       "      <td>805000</td>\n",
       "      <td>4192.708333</td>\n",
       "    </tr>\n",
       "    <tr>\n",
       "      <th>Birmingham</th>\n",
       "      <td>Cadbury World</td>\n",
       "      <td>No</td>\n",
       "      <td>598.9</td>\n",
       "      <td>1</td>\n",
       "      <td>2517000</td>\n",
       "      <td>4202.704959</td>\n",
       "    </tr>\n",
       "    <tr>\n",
       "      <th>London</th>\n",
       "      <td>Big Ben</td>\n",
       "      <td>Yes</td>\n",
       "      <td>1737.9</td>\n",
       "      <td>0</td>\n",
       "      <td>10803000</td>\n",
       "      <td>6216.122907</td>\n",
       "    </tr>\n",
       "  </tbody>\n",
       "</table>\n",
       "</div>"
      ],
      "text/plain": [
       "                               attraction port    area  id  population  \\\n",
       "Glasgow                       Kelvingrove  Yes   368.5   4     1100000   \n",
       "Leeds-Bradford            Royal Armouries   No   487.8   3     1659000   \n",
       "Sheffield               Botanical Gardens   No   167.5   9      603000   \n",
       "Manchester                    Northcoders   No   630.3   2     2449000   \n",
       "Newcastle                     Bigg Market  Yes   180.0   7      719000   \n",
       "Nottingham              Nottingham Castle   No   176.4   8      719000   \n",
       "Liverpool                     Albert Dock  Yes   199.6   5      835000   \n",
       "Southampton-Portsmouth     Naval Dockyard  Yes   192.0   6      805000   \n",
       "Birmingham                  Cadbury World   No   598.9   1     2517000   \n",
       "London                            Big Ben  Yes  1737.9   0    10803000   \n",
       "\n",
       "                          densities  \n",
       "Glasgow                 2985.074627  \n",
       "Leeds-Bradford          3400.984010  \n",
       "Sheffield               3600.000000  \n",
       "Manchester              3885.451372  \n",
       "Newcastle               3994.444444  \n",
       "Nottingham              4075.963719  \n",
       "Liverpool               4183.366733  \n",
       "Southampton-Portsmouth  4192.708333  \n",
       "Birmingham              4202.704959  \n",
       "London                  6216.122907  "
      ]
     },
     "execution_count": 119,
     "metadata": {},
     "output_type": "execute_result"
    }
   ],
   "source": [
    "cities = pd.Series(\n",
    "    {\n",
    "        \"London\": 10803000,\n",
    "        \"Birmingham\": 2517000,\n",
    "        \"Manchester\": 2449000,\n",
    "        \"Leeds-Bradford\": 1659000,\n",
    "        \"Glasgow\": 1100000,\n",
    "        \"Liverpool\": 835000,\n",
    "        \"Southampton-Portsmouth\": 805000,\n",
    "        \"Newcastle\": 719000,\n",
    "        \"Nottingham\": 719000,\n",
    "        \"Sheffield\": 603000,\n",
    "    }\n",
    ")\n",
    "\n",
    "cities_data['population'] = cities\n",
    "cities_data['densities'] = cities_data['population'] / cities_data['area']\n",
    "cities_data.sort_values('densities')"
   ]
  },
  {
   "cell_type": "code",
   "execution_count": 13,
   "id": "fd2709ae",
   "metadata": {},
   "outputs": [],
   "source": [
    "doughnuts_df = pd.read_json(\"data/doughnuts.json\", orient='records')"
   ]
  },
  {
   "cell_type": "code",
   "execution_count": 14,
   "id": "4b660c8c-11b5-4150-88f4-6e54c0eda914",
   "metadata": {},
   "outputs": [
    {
     "data": {
      "text/html": [
       "<div>\n",
       "<style scoped>\n",
       "    .dataframe tbody tr th:only-of-type {\n",
       "        vertical-align: middle;\n",
       "    }\n",
       "\n",
       "    .dataframe tbody tr th {\n",
       "        vertical-align: top;\n",
       "    }\n",
       "\n",
       "    .dataframe thead th {\n",
       "        text-align: right;\n",
       "    }\n",
       "</style>\n",
       "<table border=\"1\" class=\"dataframe\">\n",
       "  <thead>\n",
       "    <tr style=\"text-align: right;\">\n",
       "      <th></th>\n",
       "      <th>doughnut_data</th>\n",
       "    </tr>\n",
       "  </thead>\n",
       "  <tbody>\n",
       "    <tr>\n",
       "      <th>0</th>\n",
       "      <td>{'doughnut_type': 'Choccy Delight', 'price': 1...</td>\n",
       "    </tr>\n",
       "    <tr>\n",
       "      <th>1</th>\n",
       "      <td>{'doughnut_type': 'Strawberry Haze', 'price': ...</td>\n",
       "    </tr>\n",
       "    <tr>\n",
       "      <th>2</th>\n",
       "      <td>{'doughnut_type': 'Sprinkly Bonanza', 'price':...</td>\n",
       "    </tr>\n",
       "    <tr>\n",
       "      <th>3</th>\n",
       "      <td>{'doughnut_type': 'Nutty Heaven', 'price': 1.2...</td>\n",
       "    </tr>\n",
       "    <tr>\n",
       "      <th>4</th>\n",
       "      <td>{'doughnut_type': 'Caramel Caress', 'price': 1...</td>\n",
       "    </tr>\n",
       "    <tr>\n",
       "      <th>5</th>\n",
       "      <td>{'doughnut_type': 'Delectable Delights', 'pric...</td>\n",
       "    </tr>\n",
       "    <tr>\n",
       "      <th>6</th>\n",
       "      <td>{'doughnut_type': 'Banana Bonanza', 'price': 1...</td>\n",
       "    </tr>\n",
       "    <tr>\n",
       "      <th>7</th>\n",
       "      <td>{'doughnut_type': 'Marshmallow Marsh', 'price'...</td>\n",
       "    </tr>\n",
       "    <tr>\n",
       "      <th>8</th>\n",
       "      <td>{'doughnut_type': 'Rocky Road', 'price': 2.22,...</td>\n",
       "    </tr>\n",
       "    <tr>\n",
       "      <th>9</th>\n",
       "      <td>{'doughnut_type': 'Biscoff Gourmet', 'price': ...</td>\n",
       "    </tr>\n",
       "  </tbody>\n",
       "</table>\n",
       "</div>"
      ],
      "text/plain": [
       "                                       doughnut_data\n",
       "0  {'doughnut_type': 'Choccy Delight', 'price': 1...\n",
       "1  {'doughnut_type': 'Strawberry Haze', 'price': ...\n",
       "2  {'doughnut_type': 'Sprinkly Bonanza', 'price':...\n",
       "3  {'doughnut_type': 'Nutty Heaven', 'price': 1.2...\n",
       "4  {'doughnut_type': 'Caramel Caress', 'price': 1...\n",
       "5  {'doughnut_type': 'Delectable Delights', 'pric...\n",
       "6  {'doughnut_type': 'Banana Bonanza', 'price': 1...\n",
       "7  {'doughnut_type': 'Marshmallow Marsh', 'price'...\n",
       "8  {'doughnut_type': 'Rocky Road', 'price': 2.22,...\n",
       "9  {'doughnut_type': 'Biscoff Gourmet', 'price': ..."
      ]
     },
     "execution_count": 14,
     "metadata": {},
     "output_type": "execute_result"
    }
   ],
   "source": [
    "doughnuts_df"
   ]
  },
  {
   "cell_type": "code",
   "execution_count": null,
   "id": "28b5b5f7-b674-4c12-beb4-64ce38e01d84",
   "metadata": {},
   "outputs": [],
   "source": []
  }
 ],
 "metadata": {
  "kernelspec": {
   "display_name": "Python 3 (ipykernel)",
   "language": "python",
   "name": "python3"
  },
  "language_info": {
   "codemirror_mode": {
    "name": "ipython",
    "version": 3
   },
   "file_extension": ".py",
   "mimetype": "text/x-python",
   "name": "python",
   "nbconvert_exporter": "python",
   "pygments_lexer": "ipython3",
   "version": "3.11.1"
  }
 },
 "nbformat": 4,
 "nbformat_minor": 5
}
